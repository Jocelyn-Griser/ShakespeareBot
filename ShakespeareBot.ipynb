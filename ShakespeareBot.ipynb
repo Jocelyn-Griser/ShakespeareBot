{
 "cells": [
  {
   "cell_type": "code",
   "execution_count": 5,
   "id": "91c7127f",
   "metadata": {},
   "outputs": [
    {
     "name": "stdout",
     "output_type": "stream",
     "text": [
      "Python 3.8.8\n"
     ]
    }
   ],
   "source": [
    "!python --version"
   ]
  },
  {
   "cell_type": "code",
   "execution_count": 3,
   "id": "2f51668b",
   "metadata": {},
   "outputs": [],
   "source": [
    "import random\n",
    "\n",
    "import pickle\n",
    "\n",
    "import pandas as pd\n",
    "import numpy as np\n",
    "import re\n",
    "import string\n",
    "import seaborn as sns\n",
    "import matplotlib.pyplot as plt\n",
    "from collections import Counter\n",
    "from dataclasses import dataclass\n",
    "from typing import List, Callable, Dict, Tuple, Set\n",
    "\n",
    "import tensorflow as tf\n",
    "from tensorflow import keras\n",
    "from tensorflow.keras.preprocessing.sequence import pad_sequences\n",
    "from tensorflow.keras.preprocessing.text import Tokenizer"
   ]
  },
  {
   "cell_type": "code",
   "execution_count": 12,
   "id": "4100e421",
   "metadata": {},
   "outputs": [],
   "source": [
    "def remove_punctuation(text):\n",
    "    return re.sub('[^a-zA-Z]', '', str(text))"
   ]
  },
  {
   "cell_type": "code",
   "execution_count": 9,
   "id": "19134266",
   "metadata": {},
   "outputs": [],
   "source": [
    "with open('m5_tokenizer.pickle', 'rb') as handle:\n",
    "    fitted_tokenizer = pickle.load(handle)\n",
    "    \n",
    "chosen_model= tf.keras.models.load_model('model5.h5')"
   ]
  },
  {
   "cell_type": "code",
   "execution_count": 53,
   "id": "e4f429e5",
   "metadata": {},
   "outputs": [],
   "source": [
    "def predict_next(seed_text,number_of_words,debug=False):\n",
    "\n",
    "    next_words = number_of_words\n",
    "    \n",
    "    seed_predicted=seed_text\n",
    "    old_output_word=''\n",
    "\n",
    "    for _ in range(next_words):\n",
    "        token_list = fitted_tokenizer.texts_to_sequences([seed_predicted])[0]\n",
    "        token_list = pad_sequences([token_list], maxlen=19, padding='pre')\n",
    "        predicted = np.argmax(chosen_model.predict(token_list), axis=-1)\n",
    "        output_word = \"\"\n",
    "        for word, index in fitted_tokenizer.word_index.items():\n",
    "            if index == predicted:\n",
    "                output_word = word\n",
    "                break\n",
    "#         if old_output_word==output_word:\n",
    "#             break\n",
    "        seed_predicted += \" \" + output_word\n",
    "        old_output_word=output_word\n",
    "\n",
    "    seed_predicted = (seed_predicted + \".\").capitalize()\n",
    "    return(seed_predicted)"
   ]
  },
  {
   "cell_type": "code",
   "execution_count": 14,
   "id": "21ec7150",
   "metadata": {},
   "outputs": [],
   "source": [
    "easy_q_0=[\"who\",\"what\"]\n",
    "easy_q_1=[\"was\",\"is\",\"were\",\"are\"]\n",
    "\n",
    "question_modifiers=[\"now\",\"then\"]"
   ]
  },
  {
   "cell_type": "code",
   "execution_count": 7,
   "id": "f9121cfe",
   "metadata": {},
   "outputs": [],
   "source": [
    "yesno=0 #will indicate whether the bot is expected a yes or no answer\n",
    "\n",
    "    \n",
    "noreplies_1=[\"no\",\"sorta\",\"maybe\",\"kinda\"]\n",
    "noreplies_2=[\"not really\",\"sort of\",\"kind of\",\"yes but\"]"
   ]
  },
  {
   "cell_type": "code",
   "execution_count": 59,
   "id": "671fa854",
   "metadata": {},
   "outputs": [],
   "source": [
    "def chat_response(user_text,debug=False):\n",
    "    chatbot_resp=''\n",
    "    chatbot_seed=''\n",
    "    \n",
    "    ut_m=user_text.lower().split()\n",
    "    ut_m=[remove_punctuation(x) for x in ut_m]\n",
    "    \n",
    "    idontgetit=0\n",
    "    \n",
    "    \n",
    "    if len(ut_m)>6:\n",
    "        chatbot_resp=\"SB: Forgive me. Your query was too long. Please use less than 6 terms.\"\n",
    "        return chatbot_resp\n",
    "    \n",
    "    for term in ut_m:\n",
    "        if fitted_tokenizer.texts_to_sequences([term])==[[]]:\n",
    "            chatbot_resp=\"SB: Forgive me. I am not familiar with the term \\\"\"+term+\"\\\". Please reword your query.\\n\"\n",
    "            return chatbot_resp\n",
    "    \n",
    "    if len(ut_m)==1:\n",
    "        if ut_m[0]==\"suggestion\":\n",
    "            chatbot_resp=\"SB: Perhaps try asking a query such as \\\"Who are Romeo and Juliet?\\\" or \\\"What is fate?\\\"\"\n",
    "            return chatbot_resp\n",
    "        else:\n",
    "            chatbot_resp=\"SB: I will attempt to complete your query, \\\"\"+ut_m[0]+\"\\\"...\\n\"\n",
    "            chatbot_seed=ut_m[0]\n",
    "    \n",
    "    elif (ut_m[0] in easy_q_0):\n",
    "        useit=[ut_m[0]]\n",
    "        if useit!=[\"who\"]:\n",
    "            useit=[\"that\"]\n",
    "            \n",
    "        if (ut_m[1] in easy_q_1):\n",
    "            if (ut_m[1] in [\"is\",\"was\"]):\n",
    "                theone=[\"the one\"]\n",
    "            else:\n",
    "                theone=[\"the ones\"]\n",
    "            \n",
    "            if (ut_m[2][-3:]==\"ing\"):\n",
    "                chatbot_seed=\" \".join(theone+useit+ut_m[1:]+[\"is\"])\n",
    "            else:\n",
    "                chatbot_seed=' '.join(ut_m[2:]+[ut_m[1]])\n",
    "                \n",
    "        elif (ut_m[1][-2:]==\"ed\"):\n",
    "            chatbot_seed=' '.join(ut_m[2:]+[\"was\"]+[ut_m[1]]+[\"by\"])\n",
    "        elif (ut_m[1][-1]==\"s\"):\n",
    "            chatbot_seed=\" \".join([\"the one\"]+useit+ut_m[1:]+[\"is\"])\n",
    "        else:\n",
    "            idontgetit=1\n",
    "    elif (ut_m[0]==\"where\") and (ut_m[1] in easy_q_1):\n",
    "        chatbot_seed=' '.join(ut_m[2:]+[ut_m[1]]+[\"in\"])\n",
    "        \n",
    "    elif ut_m[:3]==\"tell me about\".split():\n",
    "        chatbot_seed=' '.join(ut_m[3:])\n",
    "    else:\n",
    "        idontgetit=1\n",
    "    \n",
    "    if (idontgetit==1) or (chatbot_seed==''):\n",
    "        chatbot_resp=\"SB: I do not understand your query, but I shall endeavor to answer it.\\n\"\n",
    "        chatbot_seed=' '.join(ut_m)\n",
    "    \n",
    "    wordspred=predict_next(chatbot_seed,7)\n",
    "    \n",
    "    chatbot_resp=chatbot_resp+\"SB: \\\"\"+wordspred+\"\\\"\\n\\n\"\n",
    "    chatbot_resp=chatbot_resp+\"SB: Does this answer your query?\\n\"\n",
    "    yesno=1\n",
    "    \n",
    "    return chatbot_resp"
   ]
  },
  {
   "cell_type": "code",
   "execution_count": 48,
   "id": "8e3e2c0a",
   "metadata": {},
   "outputs": [
    {
     "name": "stdout",
     "output_type": "stream",
     "text": [
      ">> Juliet know if i love no true o.\n",
      "\n",
      "SB: Does this answer your query?\n",
      "\n"
     ]
    }
   ],
   "source": [
    "print(chat_response(\"tell me about juliet\",debug=True))"
   ]
  },
  {
   "cell_type": "code",
   "execution_count": 50,
   "id": "d1a07b8b",
   "metadata": {},
   "outputs": [
    {
     "name": "stdout",
     "output_type": "stream",
     "text": [
      "2\n"
     ]
    }
   ],
   "source": [
    "x=[1,2,3]\n",
    "\n",
    "print(x[1])"
   ]
  },
  {
   "cell_type": "code",
   "execution_count": 60,
   "id": "8529e8b2",
   "metadata": {},
   "outputs": [
    {
     "name": "stdout",
     "output_type": "stream",
     "text": [
      "SB: Greetings and salutations. I am ShakspeareBot.\n",
      "SB: I will endeavor to answer your queries.\n",
      "SB: To end our dialogue, say \"Goodbye\"\n",
      "\n",
      "SB: What is your query?\n",
      "\n",
      "Who is Juliet Capulet?\n",
      "\n",
      "SB: \"Juliet capulet is to the natural in the most lamentable.\"\n",
      "\n",
      "SB: Does this answer your query?\n",
      "\n",
      "Who is Caesar?\n",
      "\n",
      "SB: \"Caesar is turnd knee many as which can hang.\"\n",
      "\n",
      "SB: Does this answer your query?\n",
      "\n",
      "Who was Caesar?\n",
      "\n",
      "SB: \"Caesar was turnd that in mexico known to make.\"\n",
      "\n",
      "SB: Does this answer your query?\n",
      "\n",
      "Who was Shakespeare?\n",
      "\n",
      "SB: Forgive me. I am not familiar with the term \"shakespeare\". Please reword your query.\n",
      "\n",
      "Where is Rome?\n",
      "\n",
      "SB: \"Rome is in thee at the citadel and i do.\"\n",
      "\n",
      "SB: Does this answer your query?\n",
      "\n",
      "Tell me about Romeo\n",
      "\n",
      "SB: \"Romeo doff for you for ways cassio news.\"\n",
      "\n",
      "SB: Does this answer your query?\n",
      "\n",
      "Goodbye\n",
      "\n",
      "SB: Farewell.\n"
     ]
    }
   ],
   "source": [
    "flag=True\n",
    "\n",
    "yesno=0\n",
    "\n",
    "print(\"SB: Greetings and salutations. I am ShakspeareBot.\")\n",
    "print(\"SB: I will endeavor to answer your queries.\")\n",
    "print(\"SB: To end our dialogue, say \\\"Goodbye\\\"\")\n",
    "print()\n",
    "print(\"SB: What is your query?\\n\")\n",
    "\n",
    "while flag==True:\n",
    "    user_resp=input()\n",
    "    user_resp=user_resp.lower()\n",
    "    ur_split=user_resp.split()\n",
    "    if user_resp==\"goodbye\" or user_resp[:-1]==\"goodbye\":\n",
    "        flag=False\n",
    "        print(\"\\nSB: Farewell.\")\n",
    "    \n",
    "    elif ur_split[0] in noreplies_1 or ur_split[:2] in noreplies_2:\n",
    "        print(\"\\nSB: I am sorry I was unable to answer your query.\")\n",
    "        print(\"SB: Perhaps try re-wording your query.\\n\")\n",
    "        \n",
    "    elif ur_split[0]==\"yes\" or ur_split[0]==\"yeah\":\n",
    "        print(\"\\nSB: I am pleased I was able to help.\\nSB: What else would you like to ask me?\\n\") \n",
    "    else:\n",
    "        sb_resp=chat_response(user_resp)\n",
    "        print()\n",
    "        print(sb_resp)\n",
    "    "
   ]
  },
  {
   "cell_type": "code",
   "execution_count": null,
   "id": "2d485518",
   "metadata": {},
   "outputs": [],
   "source": []
  },
  {
   "cell_type": "code",
   "execution_count": null,
   "id": "721d450e",
   "metadata": {},
   "outputs": [],
   "source": []
  }
 ],
 "metadata": {
  "kernelspec": {
   "display_name": "Python 3",
   "language": "python",
   "name": "python3"
  },
  "language_info": {
   "codemirror_mode": {
    "name": "ipython",
    "version": 3
   },
   "file_extension": ".py",
   "mimetype": "text/x-python",
   "name": "python",
   "nbconvert_exporter": "python",
   "pygments_lexer": "ipython3",
   "version": "3.8.8"
  }
 },
 "nbformat": 4,
 "nbformat_minor": 5
}
